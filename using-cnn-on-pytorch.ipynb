{
 "cells": [
  {
   "cell_type": "code",
   "execution_count": 1,
   "metadata": {
    "_cell_guid": "b1076dfc-b9ad-4769-8c92-a6c4dae69d19",
    "_uuid": "8f2839f25d086af736a60e9eeb907d3b93b6e0e5"
   },
   "outputs": [],
   "source": [
    "import numpy as np # linear algebra\n",
    "import pandas as pd # data processing, CSV file I/O (e.g. pd.read_csv)\n",
    "import os \n",
    "import matplotlib.pyplot as plt\n",
    "import torch\n",
    "from torch.utils.data import Dataset,DataLoader\n",
    "from torchvision import transforms\n",
    "from torch.utils.data.sampler import SubsetRandomSampler\n",
    "import torch.optim as optim\n",
    "%matplotlib inline"
   ]
  },
  {
   "cell_type": "code",
   "execution_count": 2,
   "metadata": {
    "_uuid": "d1b41c30511885fe4f708e80d21a8ad357052d21"
   },
   "outputs": [],
   "source": [
    "class NumbersDataset(Dataset):\n",
    "    def __init__(self, filepath, transforms=None, train=True, test=False):\n",
    "        self.data = pd.read_csv(filepath)\n",
    "        self.test = test\n",
    "        if self.test == False:\n",
    "            t_limit = int(self.data.shape[0] * 0.8)\n",
    "            if train is True:\n",
    "                self.data = self.data[:t_limit]\n",
    "            else:\n",
    "                self.data = self.data[t_limit:]\n",
    "        self.transforms = transforms\n",
    "    \n",
    "    def __len__(self):\n",
    "        return len(self.data)\n",
    "    \n",
    "    def __getitem__(self,index):\n",
    "        if self.test == True:\n",
    "            image = self.data.iloc[index,:].values.astype(np.uint8).reshape((28,28,1))\n",
    "        else:\n",
    "            image = self.data.iloc[index,1:].values.astype(np.uint8).reshape((28,28,1))\n",
    "            label = self.data.iloc[index,0]\n",
    "        \n",
    "        if self.transforms is not None:\n",
    "            image = self.transforms(image)\n",
    "            \n",
    "        return image if self.test == True else (image, label)"
   ]
  },
  {
   "cell_type": "code",
   "execution_count": 3,
   "metadata": {
    "_uuid": "c621f431563435caf6f8e28c20b5d16e2cad0af6"
   },
   "outputs": [],
   "source": [
    "train_data = NumbersDataset(\"../input/train.csv\", transforms = transforms.ToTensor())\n",
    "test_data = NumbersDataset(\"../input/train.csv\",train=False, transforms = transforms.ToTensor())\n",
    "\n",
    "#generating indices for train and validataion set\n",
    "valid_size = 0.2\n",
    "train_size = len(train_data)\n",
    "indices = list(range(train_size))\n",
    "np.random.shuffle(indices)\n",
    "split = int(np.floor(valid_size * train_size))\n",
    "valid_samples, train_samples = SubsetRandomSampler(indices[:split]), SubsetRandomSampler(indices[split:])\n"
   ]
  },
  {
   "cell_type": "code",
   "execution_count": 4,
   "metadata": {
    "_uuid": "c86dbf5e78cdb50f99cabbba0f7fd0302fb849ff"
   },
   "outputs": [
    {
     "name": "stdout",
     "output_type": "stream",
     "text": [
      "torch.Size([10, 1, 28, 28])\n"
     ]
    }
   ],
   "source": [
    "train_loader = DataLoader(train_data, batch_size= 10, sampler=train_samples)\n",
    "dataiter = iter(train_loader)\n",
    "images,labels = dataiter.next()\n",
    "\n",
    "print(images.shape)"
   ]
  },
  {
   "cell_type": "code",
   "execution_count": 5,
   "metadata": {
    "_uuid": "a3a7e2297bc2f87ef11ad518f7478fdaba4da58c"
   },
   "outputs": [
    {
     "data": {
      "image/png": "[encoded data removed]",
      "text/plain": [
       "<Figure size 432x288 with 8 Axes>"
      ]
     },
     "metadata": {},
     "output_type": "display_data"
    }
   ],
   "source": [
    "fig, axes = plt.subplots(ncols=4,nrows=2,subplot_kw={'yticks':[],'xticks':[]})\n",
    "fig.subplots_adjust(hspace=0.1, wspace=0.4)\n",
    "count = 1\n",
    "for i in range(2):\n",
    "    for j in range(4):\n",
    "        img = np.squeeze(images[count])\n",
    "        axes[i,j].imshow(img,cmap='gray')\n",
    "        axes[i,j].set_title(labels[count].item())\n",
    "        count += 1"
   ]
  },
  {
   "cell_type": "code",
   "execution_count": 6,
   "metadata": {
    "_uuid": "af14f9ca121e5a9a47c85d7441c6b9a7bb358cea"
   },
   "outputs": [],
   "source": [
    "#import torch deep learning modules\n",
    "import torch.nn as nn\n",
    "import torch.nn.functional as F"
   ]
  },
  {
   "cell_type": "code",
   "execution_count": 7,
   "metadata": {
    "_uuid": "0145d0268a49dabf39e0f966a40db17bfeb52d20"
   },
   "outputs": [],
   "source": [
    "class DigitClasificationCNN(nn.Module):\n",
    "    \n",
    "    def __init__(self):\n",
    "        super(DigitClasificationCNN,self).__init__()\n",
    "        \n",
    "        #first convolution layer from 1d --> 5d, sees (1 X 28 x 28) tensor and outputs (32 X 28 X 28)\n",
    "        self.conv_1 = nn.Conv2d(1, 32, 3, padding = 1)\n",
    "        \n",
    "        #sencond convolution layer from 5d --> 10d, sees (5 X 14 X 14) tensor and outputs (10 X 14 X 14)\n",
    "        self.conv_2 = nn.Conv2d(32, 32, 3, padding = 1)\n",
    "        \n",
    "        #first max_pooling layer from (5 X 28 X 28) --> (5 X 14 X 14)\n",
    "        self.pool_1 = nn.MaxPool2d(2,2)\n",
    "        \n",
    "        #first fully connected layer from (10 * 27 * 27) --> 1000\n",
    "        self.fc_1 = nn.Linear(32 * 14 * 14, 128)\n",
    "        \n",
    "        #second fully connected layer from 1000 --> 500\n",
    "        self.fc_2 = nn.Linear(128,10)\n",
    "        \n",
    "        #dropout layer to avoid overfitting\n",
    "        self.drop_1 = nn.Dropout(0.25)\n",
    "        \n",
    "        #dropout layer to avoid overfitting\n",
    "        self.drop_2 = nn.Dropout(0.5)\n",
    "        \n",
    "    def forward(self, x):\n",
    "        \n",
    "        x = F.relu(self.conv_1(x))\n",
    "        \n",
    "        x = F.relu(self.conv_2(x))\n",
    "        \n",
    "        x = self.drop_1(self.pool_1(x))\n",
    "        \n",
    "        x = x.view(-1, 32 * 14 * 14)\n",
    "        \n",
    "        x = self.drop_2(F.relu(self.fc_1(x)))\n",
    "        \n",
    "        x = self.fc_2(x)\n",
    "        \n",
    "        return x\n"
   ]
  },
  {
   "cell_type": "code",
   "execution_count": 8,
   "metadata": {
    "_uuid": "a78c621ac7360cb4ebe6cc37bc0cd4308e85ca47"
   },
   "outputs": [],
   "source": [
    "device = torch.device(\"cuda\" if torch.cuda.is_available() else \"cpu\")"
   ]
  },
  {
   "cell_type": "code",
   "execution_count": 9,
   "metadata": {
    "_uuid": "9b3837593e167151dc30f6b508bf9c0a89a2fb1f"
   },
   "outputs": [],
   "source": [
    "def train(model, train_loader, valid_loader, epochs = 10, lr = 0.001, print_every = 100):\n",
    "    \n",
    "    model = model.to(device)\n",
    "    \n",
    "    #defining loss function\n",
    "    criterion = nn.CrossEntropyLoss()\n",
    "\n",
    "    #defining optimizer\n",
    "    optimizer = optim.Adam(model.parameters(),lr = lr)\n",
    "    \n",
    "    train_losses = []\n",
    "    valid_losses = []\n",
    "    counter = 0\n",
    "    \n",
    "    t_loss = []\n",
    "    for epoch in range(1,epochs + 1):\n",
    "        ######################\n",
    "        # Training the model #\n",
    "        ######################\n",
    "\n",
    "        model.train()\n",
    "        \n",
    "        for data, target in train_loader:\n",
    "            counter += 1\n",
    "\n",
    "            #moving data to the coputing device(gpu/cpu)\n",
    "            data = data.to(device)\n",
    "            target = target.to(device)\n",
    "\n",
    "            #clearing optimizer from gradients\n",
    "            optimizer.zero_grad()\n",
    "\n",
    "            #forward pass \n",
    "            output = model(data)\n",
    "\n",
    "            #calculating the batch loss\n",
    "            train_loss = criterion(output,target)\n",
    "\n",
    "            #backward pass: calculating the gradient loss with respect to model parameters\n",
    "            train_loss.backward()\n",
    "\n",
    "            #performing optimization on the gradients\n",
    "            optimizer.step()\n",
    "            \n",
    "            #########################\n",
    "            # Validating the model #\n",
    "            ########################\n",
    "            if counter % print_every == 0:\n",
    "                model.eval()\n",
    "                valid_loss = []\n",
    "\n",
    "                for data, target in valid_loader:\n",
    "\n",
    "                    #moving data to the coputing device(gpu/cpu)\n",
    "                    data = data.to(device)\n",
    "                    target = target.to(device)\n",
    "\n",
    "                    #forward pass\n",
    "                    output = model(data)\n",
    "\n",
    "                    #calculating the loss over the batch\n",
    "                    loss = criterion(output, target)\n",
    "\n",
    "                    valid_loss.append(loss.item())\n",
    "                \n",
    "                t_loss.append(train_loss.item())\n",
    "                train_losses.append(np.mean(t_loss))\n",
    "                valid_losses.append(np.mean(valid_loss))\n",
    "                print(\"Epoch {}/{} \\t Training loss: {} \\t Validation loss: {}\".format(epoch, epochs,train_losses[-1], valid_losses[-1]))\n",
    "\n",
    "    return train_losses,valid_losses"
   ]
  },
  {
   "cell_type": "code",
   "execution_count": 10,
   "metadata": {
    "_uuid": "be254b3526a983e6bff402ddebdce57efa0f59e6"
   },
   "outputs": [],
   "source": [
    "batch_size = 128\n",
    "\n",
    "#train and test data loaders\n",
    "train_loader = DataLoader(train_data, batch_size=batch_size, sampler=train_samples)\n",
    "valid_loader = DataLoader(train_data, batch_size=batch_size, sampler=valid_samples)\n",
    "test_loader = DataLoader(test_data, shuffle=True, batch_size=batch_size)"
   ]
  },
  {
   "cell_type": "code",
   "execution_count": 11,
   "metadata": {
    "_uuid": "58c7fcffa2d59dc0a29721aa4fcd75e9293ca4d3",
    "scrolled": true
   },
   "outputs": [
    {
     "name": "stdout",
     "output_type": "stream",
     "text": [
      "Epoch 1/20 \t Training loss: 0.47512173652648926 \t Validation loss: 0.2429736984788247\n",
      "Epoch 1/20 \t Training loss: 0.30981601774692535 \t Validation loss: 0.1311333437432658\n",
      "Epoch 2/20 \t Training loss: 0.2407187893986702 \t Validation loss: 0.09638576290376906\n",
      "Epoch 2/20 \t Training loss: 0.1942765535786748 \t Validation loss: 0.07640662697969743\n",
      "Epoch 3/20 \t Training loss: 0.18227630034089087 \t Validation loss: 0.07495374910814583\n",
      "Epoch 3/20 \t Training loss: 0.15561570692807436 \t Validation loss: 0.06316855068336118\n",
      "Epoch 4/20 \t Training loss: 0.14691924809345178 \t Validation loss: 0.06612823081185233\n",
      "Epoch 4/20 \t Training loss: 0.13482528389431536 \t Validation loss: 0.056842201652954207\n",
      "Epoch 5/20 \t Training loss: 0.12628226913511753 \t Validation loss: 0.06116419046554925\n",
      "Epoch 5/20 \t Training loss: 0.11547013837844133 \t Validation loss: 0.04998287895940385\n",
      "Epoch 6/20 \t Training loss: 0.11168202503838322 \t Validation loss: 0.06331871917365857\n",
      "Epoch 6/20 \t Training loss: 0.10292573443924387 \t Validation loss: 0.05304003155456399\n",
      "Epoch 7/20 \t Training loss: 0.10260934941470623 \t Validation loss: 0.06266097857985857\n",
      "Epoch 7/20 \t Training loss: 0.09672009692128215 \t Validation loss: 0.056662320704111514\n",
      "Epoch 8/20 \t Training loss: 0.09419171003003915 \t Validation loss: 0.05742922007053528\n",
      "Epoch 8/20 \t Training loss: 0.08853676577564329 \t Validation loss: 0.050187664739084696\n",
      "Epoch 9/20 \t Training loss: 0.0875813771477517 \t Validation loss: 0.05158868119261175\n",
      "Epoch 9/20 \t Training loss: 0.08285260997298691 \t Validation loss: 0.0482155988168604\n",
      "Epoch 10/20 \t Training loss: 0.08057603759593085 \t Validation loss: 0.055805354326401116\n",
      "Epoch 10/20 \t Training loss: 0.07656473042443394 \t Validation loss: 0.05234941913974735\n",
      "Epoch 10/20 \t Training loss: 0.07308956102601119 \t Validation loss: 0.05282674466242206\n",
      "Epoch 11/20 \t Training loss: 0.07265532431616024 \t Validation loss: 0.06063965662329827\n",
      "Epoch 11/20 \t Training loss: 0.0696568297141272 \t Validation loss: 0.051640016641819254\n",
      "Epoch 12/20 \t Training loss: 0.06919935105058055 \t Validation loss: 0.061429423649074895\n",
      "Epoch 12/20 \t Training loss: 0.066549177095294 \t Validation loss: 0.05463171448066549\n",
      "Epoch 13/20 \t Training loss: 0.06622501083004934 \t Validation loss: 0.052363542593875025\n",
      "Epoch 13/20 \t Training loss: 0.0640571494759233 \t Validation loss: 0.05156283885381132\n",
      "Epoch 14/20 \t Training loss: 0.06424357336280602 \t Validation loss: 0.05397865358950957\n",
      "Epoch 14/20 \t Training loss: 0.06203415687998821 \t Validation loss: 0.05200996777077891\n",
      "Epoch 15/20 \t Training loss: 0.06216290351003408 \t Validation loss: 0.04937185002666599\n",
      "Epoch 15/20 \t Training loss: 0.060218565105911226 \t Validation loss: 0.049435909696907365\n",
      "Epoch 16/20 \t Training loss: 0.06282504711998627 \t Validation loss: 0.07065732390531954\n",
      "Epoch 16/20 \t Training loss: 0.06099359753231207 \t Validation loss: 0.05301900468063804\n",
      "Epoch 17/20 \t Training loss: 0.06029312186600531 \t Validation loss: 0.06114636273738348\n",
      "Epoch 17/20 \t Training loss: 0.05858185509485858 \t Validation loss: 0.05488176826598509\n",
      "Epoch 18/20 \t Training loss: 0.057459437288343906 \t Validation loss: 0.05859139906066769\n",
      "Epoch 18/20 \t Training loss: 0.055960621483422616 \t Validation loss: 0.056135997914199556\n",
      "Epoch 19/20 \t Training loss: 0.05502722559398726 \t Validation loss: 0.056312222174316084\n",
      "Epoch 19/20 \t Training loss: 0.05366785241625248 \t Validation loss: 0.05680512949683756\n",
      "Epoch 20/20 \t Training loss: 0.052499737869948146 \t Validation loss: 0.051627098459680124\n",
      "Epoch 20/20 \t Training loss: 0.05122362222613358 \t Validation loss: 0.050094116022283176\n",
      "Epoch 20/20 \t Training loss: 0.05000842096550124 \t Validation loss: 0.055716497015278296\n"
     ]
    }
   ],
   "source": [
    "model = DigitClasificationCNN()\n",
    "epochs = 20\n",
    "lr = 0.001\n",
    "train_l,valid_l = train(model, train_loader, valid_loader, epochs = epochs, lr=lr)"
   ]
  },
  {
   "cell_type": "code",
   "execution_count": 12,
   "metadata": {
    "_uuid": "559d74043ce2dac81ca4320032e771280dd3a730"
   },
   "outputs": [
    {
     "data": {
      "image/png": "[encoded data removed]",
      "text/plain": [
       "<Figure size 432x288 with 1 Axes>"
      ]
     },
     "metadata": {},
     "output_type": "display_data"
    }
   ],
   "source": [
    "plt.plot(train_l)\n",
    "plt.plot(valid_l)\n",
    "plt.show()"
   ]
  },
  {
   "cell_type": "code",
   "execution_count": 13,
   "metadata": {
    "_uuid": "4870c640b48ff56d931da141bbbd3eb3fa029385"
   },
   "outputs": [],
   "source": [
    "#saving model \n",
    "model_name = \"digit_mnist_cnn.net\"\n",
    "\n",
    "checkpoint = {\n",
    "    'state_dict':model.state_dict()\n",
    "}\n",
    "\n",
    "with open(model_name,\"wb\") as mf:\n",
    "    torch.save(checkpoint,mf)"
   ]
  },
  {
   "cell_type": "code",
   "execution_count": 14,
   "metadata": {
    "_uuid": "a778c8271685ccd9ad864ba5ac817bdb7f6abf89"
   },
   "outputs": [
    {
     "name": "stdout",
     "output_type": "stream",
     "text": [
      "Test accuracy:0.9882102274533474\n"
     ]
    }
   ],
   "source": [
    "def eval_model(model, data_loader):\n",
    "    model.eval()\n",
    "    preds = []\n",
    "    for images, labels in data_loader:\n",
    "        images = images.to(device)\n",
    "        output = model(images)\n",
    "        pred = F.log_softmax(output, dim=1)\n",
    "        pred = torch.argmax(pred,dim=1)\n",
    "        labels = labels.to(device)\n",
    "        preds.append(torch.mean(torch.eq(pred,labels).to(device,dtype=torch.float32)).item())\n",
    "    return np.mean(preds)\n",
    "\n",
    "acc = eval_model(model, test_loader)\n",
    "print(\"Test accuracy:{}\".format(acc))"
   ]
  },
  {
   "cell_type": "code",
   "execution_count": 15,
   "metadata": {
    "_uuid": "e231ac1224c83748a69cfbd336569b5d94aef734"
   },
   "outputs": [],
   "source": [
    "dataset = NumbersDataset(\"../input/test.csv\", transforms=transforms.ToTensor(), test=True)\n",
    "test_iter = DataLoader(dataset, batch_size=120, shuffle=False)\n",
    "\n",
    "preds = np.array([])\n",
    "model.eval()\n",
    "for images in test_iter:\n",
    "    \n",
    "    images = images.to(device)\n",
    "    output = model(images)\n",
    "    pred = F.log_softmax(output, dim=1)\n",
    "    pred = torch.argmax(pred,dim=1)\n",
    "    pred = pred.cpu().numpy()\n",
    "    preds = np.append(preds, pred)\n"
   ]
  },
  {
   "cell_type": "code",
   "execution_count": 16,
   "metadata": {
    "_uuid": "b663f922e580fba86f6c0246bf8e6d3b9aa1efd4"
   },
   "outputs": [],
   "source": [
    "preds = preds.astype(int)\n",
    "\n",
    "preds_csv = pd.DataFrame(preds,columns=[\"Label\"])\n",
    "preds_csv.index +=1\n",
    "preds_csv.to_csv(\"submissions.csv\",index_label=[\"ImageId\"])\n"
   ]
  },
  {
   "cell_type": "code",
   "execution_count": 17,
   "metadata": {
    "_uuid": "60eb59eaeb053116faf36cdc126d1926c5f6d133"
   },
   "outputs": [],
   "source": []
  }
 ],
 "metadata": {
  "kernelspec": {
   "display_name": "Python 3",
   "language": "python",
   "name": "python3"
  },
  "language_info": {
   "codemirror_mode": {
    "name": "ipython",
    "version": 3
   },
   "file_extension": ".py",
   "mimetype": "text/x-python",
   "name": "python",
   "nbconvert_exporter": "python",
   "pygments_lexer": "ipython3",
   "version": "3.6.6"
  }
 },
 "nbformat": 4,
 "nbformat_minor": 1
}
